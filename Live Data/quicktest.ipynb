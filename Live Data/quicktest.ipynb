{
 "cells": [
  {
   "cell_type": "code",
   "execution_count": null,
   "metadata": {},
   "outputs": [],
   "source": [
    "import live_data_functions as ldf\n",
    "\n",
    "ldf.create_portfolio(investment=1e7, start_date='2017-01-01', end_date='2018-01-01', assets=['AAPL', 'GOOG'], weights=[0.5, 0.5])"
   ]
  },
  {
   "cell_type": "code",
   "execution_count": null,
   "metadata": {},
   "outputs": [],
   "source": [
    "Portfolio = ldf.get_recent_portfolio()"
   ]
  },
  {
   "cell_type": "code",
   "execution_count": null,
   "metadata": {},
   "outputs": [],
   "source": [
    "ldf.download_data(Portfolio)"
   ]
  },
  {
   "cell_type": "code",
   "execution_count": 1,
   "metadata": {},
   "outputs": [
    {
     "name": "stderr",
     "output_type": "stream",
     "text": [
      "c:\\Users\\olive\\anaconda3\\envs\\PortOptEnv\\Lib\\site-packages\\yfinance\\utils.py:775: FutureWarning: The 'unit' keyword in TimedeltaIndex construction is deprecated and will be removed in a future version. Use pd.to_timedelta instead.\n",
      "  df.index += _pd.TimedeltaIndex(dst_error_hours, 'h')\n",
      "c:\\Users\\olive\\anaconda3\\envs\\PortOptEnv\\Lib\\site-packages\\yfinance\\utils.py:775: FutureWarning: The 'unit' keyword in TimedeltaIndex construction is deprecated and will be removed in a future version. Use pd.to_timedelta instead.\n",
      "  df.index += _pd.TimedeltaIndex(dst_error_hours, 'h')\n",
      "[*********************100%%**********************]  2 of 2 completed\n",
      "c:\\Users\\olive\\OneDrive - The University of Nottingham\\Year 3\\Group Project\\Portfolio-Optimisation\\Live Data\\live_data_functions.py:161: FutureWarning: Series.__getitem__ treating keys as positions is deprecated. In a future version, integer keys will always be treated as labels (consistent with DataFrame behavior). To access a value by position, use `ser.iloc[pos]`\n",
      "  cum_returns = df['Portfolio Cumulative Returns'][-1]\n",
      "c:\\Users\\olive\\OneDrive - The University of Nottingham\\Year 3\\Group Project\\Portfolio-Optimisation\\Live Data\\live_data_functions.py:162: FutureWarning: Series.__getitem__ treating keys as positions is deprecated. In a future version, integer keys will always be treated as labels (consistent with DataFrame behavior). To access a value by position, use `ser.iloc[pos]`\n",
      "  investment_end = df['Portfolio Value'][-1]\n"
     ]
    }
   ],
   "source": [
    "import live_data_functions as ldf\n",
    "ldf.create_and_test_portfolio(investment=1e7, start_date='2024-02-02', end_date='2024-02-09', assets=['AAPL', 'GOOG'], weights=[1, 0 ])"
   ]
  },
  {
   "cell_type": "code",
   "execution_count": null,
   "metadata": {},
   "outputs": [],
   "source": []
  }
 ],
 "metadata": {
  "kernelspec": {
   "display_name": "PortOptEnv",
   "language": "python",
   "name": "python3"
  },
  "language_info": {
   "codemirror_mode": {
    "name": "ipython",
    "version": 3
   },
   "file_extension": ".py",
   "mimetype": "text/x-python",
   "name": "python",
   "nbconvert_exporter": "python",
   "pygments_lexer": "ipython3",
   "version": "3.11.7"
  }
 },
 "nbformat": 4,
 "nbformat_minor": 2
}
